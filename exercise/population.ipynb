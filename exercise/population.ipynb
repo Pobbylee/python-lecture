{
 "cells": [
  {
   "cell_type": "markdown",
   "metadata": {},
   "source": [
    "# Exercise - 성 및 연령별 추계인구 데이터 살펴보기"
   ]
  },
  {
   "cell_type": "markdown",
   "metadata": {},
   "source": [
    "* '20170927023208.csv' 파일을 pandas.read_csv 로 읽어서 DataFrame을 만든다."
   ]
  },
  {
   "cell_type": "code",
   "execution_count": 41,
   "metadata": {},
   "outputs": [
    {
     "name": "stdout",
     "output_type": "stream",
     "text": [
      "    성별       연령별     2015     2016     2017     2018     2019     2020  \\\n",
      "0   전체    0 - 4세  2290097  2232107  2169178  2114631  2086832  2052981   \n",
      "1   전체    5 - 9세  2251100  2297525  2315416  2296197  2281130  2276836   \n",
      "2   전체  10 - 14세  2488686  2326687  2266449  2270015  2243982  2244607   \n",
      "3   전체  15 - 19세  3222268  3130685  2978019  2808144  2670349  2492388   \n",
      "4   전체  20 - 24세  3511968  3559433  3525627  3464886  3379040  3307661   \n",
      "5   전체  25 - 29세  3269454  3282024  3376535  3486667  3569593  3625025   \n",
      "6   전체  30 - 34세  3871602  3693331  3498845  3352747  3290239  3301153   \n",
      "7   전체  35 - 39세  3892100  3969413  4062933  4091544  4042046  3866237   \n",
      "8   전체  40 - 44세  4398381  4234849  4086502  3949973  3842918  3875723   \n",
      "9   전체  45 - 49세  4354036  4447873  4515970  4556586  4486801  4395658   \n",
      "10  전체  50 - 54세  4289039  4176619  4173106  4127441  4295619  4342328   \n",
      "11  전체  55 - 59세  3884217  4139015  4232916  4344936  4298798  4246232   \n",
      "12  전체  60 - 64세  2750831  2993304  3169187  3390979  3630099  3813320   \n",
      "13  전체  65 - 69세  2105631  2212452  2289256  2360468  2452262  2661049   \n",
      "14  전체  70 - 74세  1779544  1730775  1758803  1797500  1888959  1990632   \n",
      "15  전체  75 - 79세  1350503  1401047  1495014  1579311  1585222  1597136   \n",
      "16  전체  80 - 84세   793916   867685   931356   989081  1054206  1102119   \n",
      "17  전체  85 - 89세   363551   391572   426825   461883   499347   548761   \n",
      "18  전체  90 - 94세   120958   129036   139616   150897   171233   189214   \n",
      "19  전체  95 - 99세    23923    27001    31097    37491    38289    40047   \n",
      "20  전체   100세 이상     3142     3274     3551     3879     4203     4710   \n",
      "21  남자    0 - 4세  1175609  1144991  1111794  1083894  1069699  1052403   \n",
      "22  남자    5 - 9세  1161732  1183766  1192239  1181053  1171974  1168359   \n",
      "23  남자  10 - 14세  1294946  1208844  1174811  1173983  1158674  1157957   \n",
      "24  남자  15 - 19세  1684718  1632065  1552681  1464762  1390661  1295764   \n",
      "25  남자  20 - 24세  1877884  1902360  1878484  1836699  1784304  1738640   \n",
      "26  남자  25 - 29세  1730403  1740971  1798846  1865847  1914470  1945444   \n",
      "27  남자  30 - 34세  2015092  1926821  1830845  1760951  1736144  1750517   \n",
      "28  남자  35 - 39세  2004556  2048507  2096427  2114604  2094020  2009581   \n",
      "29  남자  40 - 44세  2248961  2165060  2089384  2020967  1968341  1987057   \n",
      "..  ..       ...      ...      ...      ...      ...      ...      ...   \n",
      "33  남자  60 - 64세  1345931  1466021  1554147  1668682  1788075  1876904   \n",
      "34  남자  65 - 69세  1009632  1060248  1099994  1134248  1179160  1280182   \n",
      "35  남자  70 - 74세   796175   781399   801164   826674   877128   929275   \n",
      "36  남자  75 - 79세   546349   573975   621058   663991   669733   680823   \n",
      "37  남자  80 - 84세   266996   299555   329093   356305   386535   410657   \n",
      "38  남자  85 - 89세    96002   104356   116401   129370   143810   163268   \n",
      "39  남자  90 - 94세    28260    29447    31404    33828    38559    42337   \n",
      "40  남자  95 - 99세     4790     5434     6271     7406     7601     7784   \n",
      "41  남자   100세 이상      444      445      505      564      669      780   \n",
      "42  여자    0 - 4세  1114488  1087116  1057384  1030737  1017133  1000578   \n",
      "43  여자    5 - 9세  1089368  1113759  1123177  1115144  1109156  1108477   \n",
      "44  여자  10 - 14세  1193740  1117843  1091638  1096032  1085308  1086650   \n",
      "45  여자  15 - 19세  1537550  1498620  1425338  1343382  1279688  1196624   \n",
      "46  여자  20 - 24세  1634084  1657073  1647143  1628187  1594736  1569021   \n",
      "47  여자  25 - 29세  1539051  1541053  1577689  1620820  1655123  1679581   \n",
      "48  여자  30 - 34세  1856510  1766510  1668000  1591796  1554095  1550636   \n",
      "49  여자  35 - 39세  1887544  1920906  1966506  1976940  1948026  1856656   \n",
      "50  여자  40 - 44세  2149420  2069789  1997118  1929006  1874577  1888666   \n",
      "51  여자  45 - 49세  2154449  2201594  2230646  2244644  2206350  2159984   \n",
      "52  여자  50 - 54세  2123620  2060315  2060134  2049266  2138428  2160683   \n",
      "53  여자  55 - 59세  1951809  2081880  2126520  2177738  2150340  2117462   \n",
      "54  여자  60 - 64세  1404900  1527283  1615040  1722297  1842024  1936416   \n",
      "55  여자  65 - 69세  1095999  1152204  1189262  1226220  1273102  1380867   \n",
      "56  여자  70 - 74세   983369   949376   957639   970826  1011831  1061357   \n",
      "57  여자  75 - 79세   804154   827072   873956   915320   915489   916313   \n",
      "58  여자  80 - 84세   526920   568130   602263   632776   667671   691462   \n",
      "59  여자  85 - 89세   267549   287216   310424   332513   355537   385493   \n",
      "60  여자  90 - 94세    92698    99589   108212   117069   132674   146877   \n",
      "61  여자  95 - 99세    19133    21567    24826    30085    30688    32263   \n",
      "62  여자   100세 이상     2698     2829     3046     3315     3534     3930   \n",
      "\n",
      "       2021     2022   ...        2056     2057     2058     2059     2060  \\\n",
      "0   2035466  2031761   ...     1409036  1401966  1396395  1391807  1387573   \n",
      "1   2218597  2155940   ...     1459669  1445056  1431238  1418767  1408040   \n",
      "2   2290682  2308220   ...     1526295  1511976  1498113  1484040  1469537   \n",
      "3   2330375  2270061   ...     1644448  1611350  1583727  1561143  1542612   \n",
      "4   3210268  3053534   ...     1894024  1849017  1803050  1758071  1715916   \n",
      "5   3669978  3632000   ...     2099686  2082079  2057134  2025337  1987655   \n",
      "6   3318520  3411784   ...     2118048  2125374  2131013  2132898  2129288   \n",
      "7   3689106  3495355   ...     2113369  2109574  2107133  2108303  2112959   \n",
      "8   3951644  4045645   ...     2304491  2242780  2189395  2162242  2128916   \n",
      "9   4231432  4084030   ...     2402346  2415338  2393179  2376455  2371414   \n",
      "10  4435213  4503589   ...     2486880  2417803  2412546  2378994  2372801   \n",
      "11  4134885  4133018   ...     3329174  3168747  2991002  2844796  2659488   \n",
      "12  4063601  4158325   ...     3684404  3649088  3586263  3498032  3423408   \n",
      "13  2898210  3072218   ...     3263478  3358846  3469841  3554408  3611842   \n",
      "14  2091787  2168465   ...     3529780  3353082  3221074  3167733  3184037   \n",
      "15  1553854  1585564   ...     3584707  3680703  3716252  3678990  3528987   \n",
      "16  1146586  1228295   ...     3366244  3265669  3176812  3112967  3161209   \n",
      "17   600922   646536   ...     2695755  2753273  2793591  2776418  2735518   \n",
      "18   204287   223703   ...     1445958  1463544  1480490  1565888  1605989   \n",
      "19    42997    47226   ...      554813   565902   586613   578161   584457   \n",
      "20     5234     6099   ...       88528    95925   104195   112828   124339   \n",
      "21  1043495  1041615   ...      722511   718888   716033   713683   711513   \n",
      "22  1137716  1104684   ...      748321   740829   733747   727355   721858   \n",
      "23  1179818  1188118   ...      782270   774933   767827   760613   753179   \n",
      "24  1209778  1175709   ...      842455   825490   811331   799755   790257   \n",
      "25  1683433  1601640   ...      976886   953688   929999   906824   885108   \n",
      "26  1968168  1941544   ...     1085580  1076585  1063827  1047550  1028252   \n",
      "27  1765299  1822516   ...     1098183  1101989  1104929  1105940  1104127   \n",
      "28  1923133  1827637   ...     1095580  1093683  1092491  1093151  1095600   \n",
      "29  2030744  2079393   ...     1191548  1158981  1131651  1117769  1100755   \n",
      "..      ...      ...   ...         ...      ...      ...      ...      ...   \n",
      "33  1998974  2048834   ...     1960629  1936338  1893715  1840264  1793092   \n",
      "34  1396459  1483186   ...     1705655  1764668  1832712  1882960  1915818   \n",
      "35   976282  1015779   ...     1784783  1702473  1643484  1625869  1644544   \n",
      "36   669123   690481   ...     1751081  1801552  1825005  1813479  1747665   \n",
      "37   433583   472322   ...     1560918  1518501  1482321  1458501  1487294   \n",
      "38   183893   203115   ...     1151574  1183518  1207735  1206587  1192895   \n",
      "39    46231    52073   ...      556030   564907   570991   605637   624961   \n",
      "40     8092     8778   ...      181176   186318   195838   194461   198230   \n",
      "41      848      992   ...       23712    25992    28656    31257    34536   \n",
      "42   991971   990146   ...      686525   683078   680362   678124   676060   \n",
      "43  1080881  1051256   ...      711348   704227   697491   691412   686182   \n",
      "44  1110864  1120102   ...      744025   737043   730286   723427   716358   \n",
      "45  1120597  1094352   ...      801993   785860   772396   761388   752355   \n",
      "46  1526835  1451894   ...      917138   895329   873051   851247   830808   \n",
      "47  1701810  1690456   ...     1014106  1005494   993307   977787   959403   \n",
      "48  1553221  1589268   ...     1019865  1023385  1026084  1026958  1025161   \n",
      "49  1765973  1667718   ...     1017789  1015891  1014642  1015152  1017359   \n",
      "50  1920900  1966252   ...     1112943  1083799  1057744  1044473  1028161   \n",
      "51  2079778  2006917   ...     1159373  1166193  1156471  1149465  1148237   \n",
      "52  2207171  2236126   ...     1190285  1160594  1161268  1147193  1145403   \n",
      "53  2053638  2053740   ...     1586484  1510087  1425059  1358080  1272188   \n",
      "54  2064627  2109491   ...     1723775  1712750  1692548  1657768  1630316   \n",
      "55  1501751  1589032   ...     1557823  1594178  1637129  1671448  1696024   \n",
      "56  1115505  1152686   ...     1744997  1650609  1577590  1541864  1539493   \n",
      "57   884731   895083   ...     1833626  1879151  1891247  1865511  1781322   \n",
      "58   713003   755973   ...     1805326  1747168  1694491  1654466  1673915   \n",
      "59   417029   443421   ...     1544181  1569755  1585856  1569831  1542623   \n",
      "60   158056   171630   ...      889928   898637   909499   960251   981028   \n",
      "61    34905    38448   ...      373637   379584   390775   383700   386227   \n",
      "62     4386     5107   ...       64816    69933    75539    81571    89803   \n",
      "\n",
      "       2061     2062     2063     2064     2065  \n",
      "0   1383025  1377517  1370487  1361488  1350223  \n",
      "1   1399225  1392227  1386714  1382179  1377993  \n",
      "2   1454789  1440249  1426500  1414090  1403415  \n",
      "3   1526857  1512605  1498803  1484791  1470353  \n",
      "4   1678055  1645384  1618127  1595844  1577557  \n",
      "5   1945432  1900332  1854255  1809152  1766867  \n",
      "6   2118979  2101367  2076402  2044572  2006838  \n",
      "7   2119907  2127286  2132973  2134904  2131338  \n",
      "8   2111697  2107966  2105598  2106836  2111558  \n",
      "9   2313646  2251973  2198610  2171477  2138211  \n",
      "10  2412863  2426151  2404257  2387682  2382782  \n",
      "11  2489948  2421075  2416065  2382887  2376917  \n",
      "12  3322994  3163651  2986876  2841451  2657079  \n",
      "13  3658623  3624723  3563426  3476738  3403505  \n",
      "14  3207383  3303035  3413856  3498583  3556524  \n",
      "15  3378157  3213062  3090472  3042838  3061443  \n",
      "16  3241536  3334182  3369570  3336681  3202988  \n",
      "17  2653742  2580641  2519927  2480946  2532101  \n",
      "18  1662918  1700434  1728074  1724511  1700849  \n",
      "19   586998   596744   609379   649521   668987  \n",
      "20   136015   138237   144097   142379   146569  \n",
      "21   709182   706357   702753   698138   692362  \n",
      "22   717340   713756   710931   708607   706462  \n",
      "23   745620   738168   731123   724764   719296  \n",
      "24   782181   774877   767801   760621   753221  \n",
      "25   865613   848794   834765   823301   813894  \n",
      "26  1006622   983514   959902   936787   915114  \n",
      "27  1098869  1089858  1077067  1060745  1041385  \n",
      "28  1099225  1103070  1106045  1107086  1105301  \n",
      "29  1092008  1090152  1089008  1089716  1092212  \n",
      "..      ...      ...      ...      ...      ...  \n",
      "33  1736300  1653110  1561170  1482586  1383927  \n",
      "34  1940245  1917013  1875567  1823309  1777238  \n",
      "35  1664006  1723011  1790719  1840966  1874164  \n",
      "36  1680415  1605626  1552657  1538573  1558516  \n",
      "37  1533125  1581038  1603727  1594477  1538476  \n",
      "38  1160437  1132797  1110976  1099397  1128124  \n",
      "39   651159   670951   686035   688512   681772  \n",
      "40   201298   205507   209695   224424   232877  \n",
      "41    38049    39045    41394    41149    42603  \n",
      "42   673843   671160   667734   663350   657861  \n",
      "43   681885   678471   675783   673572   671531  \n",
      "44   709169   702081   695377   689326   684119  \n",
      "45   744676   737728   731002   724170   717132  \n",
      "46   812442   796590   783362   772543   763663  \n",
      "47   938810   916818   894353   872365   851753  \n",
      "48  1020110  1011509   999335   983827   965453  \n",
      "49  1020682  1024216  1026928  1027818  1026037  \n",
      "50  1019689  1017814  1016590  1017120  1019346  \n",
      "51  1120733  1091569  1065489  1052200  1035886  \n",
      "52  1166646  1173573  1163927  1156952  1155750  \n",
      "53  1193261  1163581  1164314  1150333  1148596  \n",
      "54  1586694  1510541  1425706  1358865  1273152  \n",
      "55  1718378  1707710  1687859  1653429  1626267  \n",
      "56  1543377  1580024  1623137  1657617  1682360  \n",
      "57  1697742  1607436  1537815  1504265  1502927  \n",
      "58  1708411  1753144  1765843  1742204  1664512  \n",
      "59  1493305  1447844  1408951  1381549  1403977  \n",
      "60  1011759  1029483  1042039  1035999  1019077  \n",
      "61   385700   391237   399684   425097   436110  \n",
      "62    97966    99192   102703   101230   103966  \n",
      "\n",
      "[63 rows x 53 columns]\n"
     ]
    }
   ],
   "source": [
    "import numpy as np\n",
    "import pandas as pd\n",
    "from matplotlib import pyplot as pt\n",
    "\n",
    "df = pd.read_csv('20170927023208.csv')\n",
    "print(df)"
   ]
  },
  {
   "cell_type": "markdown",
   "metadata": {},
   "source": [
    "* 2017년도 남자, 여자, 전체 인구수를 알아본다. \n",
    "    - 힌트: gropuby[   ].agg(   )"
   ]
  },
  {
   "cell_type": "code",
   "execution_count": 40,
   "metadata": {},
   "outputs": [
    {
     "data": {
      "text/html": [
       "<div>\n",
       "<style>\n",
       "    .dataframe thead tr:only-child th {\n",
       "        text-align: right;\n",
       "    }\n",
       "\n",
       "    .dataframe thead th {\n",
       "        text-align: left;\n",
       "    }\n",
       "\n",
       "    .dataframe tbody tr th {\n",
       "        vertical-align: top;\n",
       "    }\n",
       "</style>\n",
       "<table border=\"1\" class=\"dataframe\">\n",
       "  <thead>\n",
       "    <tr style=\"text-align: right;\">\n",
       "      <th></th>\n",
       "      <th>sum</th>\n",
       "    </tr>\n",
       "    <tr>\n",
       "      <th>성별</th>\n",
       "      <th></th>\n",
       "    </tr>\n",
       "  </thead>\n",
       "  <tbody>\n",
       "    <tr>\n",
       "      <th>남자</th>\n",
       "      <td>25790240</td>\n",
       "    </tr>\n",
       "    <tr>\n",
       "      <th>여자</th>\n",
       "      <td>25655961</td>\n",
       "    </tr>\n",
       "    <tr>\n",
       "      <th>전체</th>\n",
       "      <td>51446201</td>\n",
       "    </tr>\n",
       "  </tbody>\n",
       "</table>\n",
       "</div>"
      ],
      "text/plain": [
       "         sum\n",
       "성별          \n",
       "남자  25790240\n",
       "여자  25655961\n",
       "전체  51446201"
      ]
     },
     "execution_count": 40,
     "metadata": {},
     "output_type": "execute_result"
    }
   ],
   "source": [
    "df.groupby('성별')['2017'].agg([np.sum])"
   ]
  },
  {
   "cell_type": "markdown",
   "metadata": {},
   "source": [
    "* 2017년도 남자의 연령별 인구수를 막대 그래프로 그린다."
   ]
  },
  {
   "cell_type": "code",
   "execution_count": 46,
   "metadata": {},
   "outputs": [
    {
     "data": {
      "image/png": "[encoded data removed]",
      "text/plain": [
       "<matplotlib.figure.Figure at 0x7fc4be78dbe0>"
      ]
     },
     "metadata": {},
     "output_type": "display_data"
    }
   ],
   "source": [
    "man = df.iloc[df.groupby('성별').groups['남자']]\n",
    "man2017 = man['2017']\n",
    "ticks = man['연령별']\n",
    "#print(man2017)\n",
    "#print(ticks.values)\n",
    "pt.figure(figsize=(10, 6))\n",
    "man2017.plot.bar()\n",
    "pt.xticks(np.arange(0, 22), ticks.values)\n",
    "pt.show()"
   ]
  },
  {
   "cell_type": "markdown",
   "metadata": {},
   "source": [
    "* 0-4세 인구, 15-19세 인구, 두 연령별 인구 합에 대해 2015년부터 2065년까지 변화를 선 그래프로 그린다. "
   ]
  },
  {
   "cell_type": "code",
   "execution_count": 70,
   "metadata": {},
   "outputs": [
    {
     "data": {
      "image/png": "[encoded data removed]",
      "text/plain": [
       "<matplotlib.figure.Figure at 0x7fc4bcb40668>"
      ]
     },
     "metadata": {},
     "output_type": "display_data"
    }
   ],
   "source": [
    "total = df.iloc[df.groupby('성별').groups['전체']]\n",
    "total_0 = total.iloc[0]\n",
    "total_0[[str(x) for x in range(2015, 2066)]].plot()\n",
    "total_3 = total.iloc[3]\n",
    "total_3[[str(x) for x in range(2015, 2066)]].plot()\n",
    "total_5 = total_0 + total_3\n",
    "total_5[[str(x) for x in range(2015, 2066)]].plot()\n",
    "pt.show()"
   ]
  },
  {
   "cell_type": "code",
   "execution_count": null,
   "metadata": {
    "collapsed": true
   },
   "outputs": [],
   "source": []
  }
 ],
 "metadata": {
  "kernelspec": {
   "display_name": "Python 3",
   "language": "python",
   "name": "python3"
  },
  "language_info": {
   "codemirror_mode": {
    "name": "ipython",
    "version": 3
   },
   "file_extension": ".py",
   "mimetype": "text/x-python",
   "name": "python",
   "nbconvert_exporter": "python",
   "pygments_lexer": "ipython3",
   "version": "3.5.2"
  }
 },
 "nbformat": 4,
 "nbformat_minor": 2
}
